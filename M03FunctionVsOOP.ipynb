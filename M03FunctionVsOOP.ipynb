{
 "cells": [
  {
   "cell_type": "code",
   "execution_count": 5,
   "metadata": {},
   "outputs": [],
   "source": [
    "##Sort an Array\n",
    "class Solution:\n",
    "    def sort012(self, arr, n):\n",
    "        low = 0\n",
    "        high = n-1\n",
    "        mid = 0\n",
    "        \n",
    "        while mid <= high:\n",
    "            if arr[mid] == 0:\n",
    "                arr[mid], arr[low] = arr[low], arr[mid]\n",
    "                mid += 1\n",
    "                low += 1\n",
    "                \n",
    "            elif arr[mid] == 1:\n",
    "                mid += 1\n",
    "                \n",
    "            else:\n",
    "                arr[mid], arr[high] = arr[high], arr[mid]\n",
    "                high -= 1 \n",
    "                "
   ]
  },
  {
   "cell_type": "code",
   "execution_count": 8,
   "metadata": {},
   "outputs": [
    {
     "name": "stdout",
     "output_type": "stream",
     "text": [
      "Element is present at index 3\n"
     ]
    }
   ],
   "source": [
    "##Binary Search\n",
    "def binarysearch(arr, l, r, x):\n",
    "     while l <= r:\n",
    "        mid = l + (r-l) // 2\n",
    "            \n",
    "        if arr[mid] == x:\n",
    "            return mid\n",
    "            \n",
    "        elif arr[mid] < x:\n",
    "            l = mid + 1\n",
    "         \n",
    "         ###element not present           \n",
    "        else:\n",
    "            r = mid - 1   \n",
    "            return -1\n",
    "    \n",
    "arr = [2,3,4,10,40]\n",
    "x = 10\n",
    "\n",
    "###Function call\n",
    "result = binarysearch(arr, 0, len(arr)-1, x)\n",
    "\n",
    "if result != -1:\n",
    "    print(\"Element is present at index %d\" %result)\n",
    "    \n",
    "else:\n",
    "    print(\"Element is not present in array\")   \n",
    "    "
   ]
  }
 ],
 "metadata": {
  "kernelspec": {
   "display_name": "Python 3",
   "language": "python",
   "name": "python3"
  },
  "language_info": {
   "codemirror_mode": {
    "name": "ipython",
    "version": 3
   },
   "file_extension": ".py",
   "mimetype": "text/x-python",
   "name": "python",
   "nbconvert_exporter": "python",
   "pygments_lexer": "ipython3",
   "version": "3.12.1"
  }
 },
 "nbformat": 4,
 "nbformat_minor": 2
}
