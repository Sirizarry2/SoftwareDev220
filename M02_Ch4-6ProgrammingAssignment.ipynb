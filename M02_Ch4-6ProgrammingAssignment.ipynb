{
 "cells": [
  {
   "cell_type": "code",
   "execution_count": 3,
   "metadata": {},
   "outputs": [
    {
     "name": "stdout",
     "output_type": "stream",
     "text": [
      "too high\n"
     ]
    }
   ],
   "source": [
    "##4.1\n",
    "secret = int = 6\n",
    "guess = int = 10\n",
    "\n",
    "if guess < secret:\n",
    "    print(\"too low\")\n",
    "elif guess > secret:\n",
    "    print(\"too high\")\n",
    "else:\n",
    "    guess = secret\n",
    "    print(\"just right\")"
   ]
  },
  {
   "cell_type": "code",
   "execution_count": 18,
   "metadata": {},
   "outputs": [
    {
     "name": "stdout",
     "output_type": "stream",
     "text": [
      "Cherry is not green.\n",
      "Cherry is small.\n",
      "Pumpkin is not green.\n",
      "Pumpkin is not small.\n",
      "Watermelon is green.\n",
      "Watermelon is not small.\n",
      "Pea is green.\n",
      "Pea is small.\n"
     ]
    }
   ],
   "source": [
    "##4.2\n",
    "class fruit:\n",
    "    def __init__(self) -> None:\n",
    "        self.small: bool = True\n",
    "        self.green: bool =False\n",
    "        self.name: str = \"fruit\"\n",
    "    \n",
    "    def is_small(self) -> bool:\n",
    "        return self.small\n",
    "    \n",
    "    def is_green(self)-> bool:\n",
    "        return self.green\n",
    "    \n",
    "    def the_name(self) -> str:\n",
    "        return self.name\n",
    "    \n",
    "class Cherry(fruit):\n",
    "    def __init__(self) -> None:\n",
    "        super().__init__()\n",
    "        self.small: bool = True\n",
    "        self.green: bool = False\n",
    "        self.name: str = \"Cherry\"\n",
    "        \n",
    "class Pumpkin(fruit):\n",
    "    def __init__(self) -> None:\n",
    "        super().__init__()\n",
    "        self.small: bool = False\n",
    "        self.green: bool = False\n",
    "        self.name: str = \"Pumpkin\"\n",
    "        \n",
    "class Watermelon(fruit):\n",
    "    def __init__(self) -> None:\n",
    "        super().__init__()\n",
    "        self.small: bool = False\n",
    "        self.green: bool = True\n",
    "        self.name: str = \"Watermelon\"\n",
    "        \n",
    "class Pea(fruit):\n",
    "    def __init__(self) -> None:\n",
    "        super().__init__()\n",
    "        self.small: bool = True\n",
    "        self.green: bool = True\n",
    "        self.name: str = \"Pea\"\n",
    "        \n",
    "cherry = Cherry()\n",
    "pumpkin = Pumpkin()\n",
    "pea = Pea()\n",
    "watermelon = Watermelon()\n",
    "\n",
    "for f in (cherry, pumpkin, watermelon, pea):\n",
    "    if f.is_green():\n",
    "        print(f.the_name(), \"is green.\")\n",
    "    else:\n",
    "        print(f.the_name(), \"is not green.\")\n",
    "        \n",
    "    if f.is_small():\n",
    "        print(f.the_name(), \"is small.\")\n",
    "    else:\n",
    "        print(f.the_name(), \"is not small.\")\n",
    "               "
   ]
  },
  {
   "cell_type": "code",
   "execution_count": 19,
   "metadata": {},
   "outputs": [
    {
     "name": "stdout",
     "output_type": "stream",
     "text": [
      "3\n",
      "2\n",
      "1\n",
      "0\n"
     ]
    }
   ],
   "source": [
    "##6.1\n",
    "num = [3, 2, 1, 0]\n",
    "\n",
    "for i in num:\n",
    "    print(i)"
   ]
  },
  {
   "cell_type": "code",
   "execution_count": 42,
   "metadata": {},
   "outputs": [
    {
     "name": "stdout",
     "output_type": "stream",
     "text": [
      "too low\n"
     ]
    }
   ],
   "source": [
    "##6.2\n",
    "guess_me = int = 7\n",
    "number = int = 1\n",
    "\n",
    "while True:\n",
    "    if number < guess_me:\n",
    "        print(\"too low\")\n",
    "    elif number > guess_me:\n",
    "        print(\"oops\")\n",
    "        break\n",
    "    else:\n",
    "        number == guess_me\n",
    "        print(\"found it!\")\n",
    "    break\n",
    "   \n",
    "number += 1 \n"
   ]
  },
  {
   "cell_type": "code",
   "execution_count": 29,
   "metadata": {},
   "outputs": [
    {
     "ename": "TypeError",
     "evalue": "'int' object is not callable",
     "output_type": "error",
     "traceback": [
      "\u001b[1;31m---------------------------------------------------------------------------\u001b[0m",
      "\u001b[1;31mTypeError\u001b[0m                                 Traceback (most recent call last)",
      "Cell \u001b[1;32mIn[29], line 3\u001b[0m\n\u001b[0;32m      1\u001b[0m \u001b[38;5;66;03m##6.3\u001b[39;00m\n\u001b[0;32m      2\u001b[0m guess_me: \u001b[38;5;28mint\u001b[39m \u001b[38;5;241m=\u001b[39m \u001b[38;5;241m5\u001b[39m\n\u001b[1;32m----> 3\u001b[0m user_input: \u001b[38;5;28mint\u001b[39m \u001b[38;5;241m=\u001b[39m \u001b[38;5;28;43mint\u001b[39;49m\u001b[43m(\u001b[49m\u001b[38;5;28;43minput\u001b[39;49m\u001b[43m(\u001b[49m\u001b[38;5;124;43m\"\u001b[39;49m\u001b[38;5;124;43mEnter a number:\u001b[39;49m\u001b[38;5;124;43m\"\u001b[39;49m\u001b[43m)\u001b[49m\u001b[43m)\u001b[49m\n\u001b[0;32m      5\u001b[0m \u001b[38;5;28;01mfor\u001b[39;00m x \u001b[38;5;129;01min\u001b[39;00m \u001b[38;5;28mrange\u001b[39m(\u001b[38;5;241m0\u001b[39m, \u001b[38;5;241m11\u001b[39m):\n\u001b[0;32m      6\u001b[0m     \u001b[38;5;28;01mif\u001b[39;00m user_input \u001b[38;5;241m==\u001b[39m guess_me:\n",
      "\u001b[1;31mTypeError\u001b[0m: 'int' object is not callable"
     ]
    }
   ],
   "source": [
    "##6.3\n",
    "guess_me: int = 5\n",
    "user_input: int = int(input(\"Enter a number:\"))\n",
    "\n",
    "for x in range(0, 11):\n",
    "    if user_input == guess_me:\n",
    "        print('found it')\n",
    "        break\n",
    "    elif  user_input > guess_me:\n",
    "        print(\"oops\")\n",
    "        break\n",
    "    else:\n",
    "        user_input < guess_me\n",
    "        print('too low')\n",
    "        \n",
    "       "
   ]
  }
 ],
 "metadata": {
  "kernelspec": {
   "display_name": "Python 3",
   "language": "python",
   "name": "python3"
  },
  "language_info": {
   "codemirror_mode": {
    "name": "ipython",
    "version": 3
   },
   "file_extension": ".py",
   "mimetype": "text/x-python",
   "name": "python",
   "nbconvert_exporter": "python",
   "pygments_lexer": "ipython3",
   "version": "3.12.1"
  }
 },
 "nbformat": 4,
 "nbformat_minor": 2
}
